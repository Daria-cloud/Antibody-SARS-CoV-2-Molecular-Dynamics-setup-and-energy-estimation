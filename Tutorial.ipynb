{
 "cells": [
  {
   "cell_type": "markdown",
   "metadata": {},
   "source": [
    "# Antibody – SARS-CoV-2 Molecular Dynamics Setup and energy estimation tutorial\n",
    "\n",
    "This tutorial aims to illustrate the process of setting up a simulation system containing an antibody and a SARS-CoV-2 protein, <br>\n",
    "step by step, using the SWISS-MODEL, VMD and NAMD. The energy estimation is implemented using AutoDock Tools, the script with commands is provided.\n",
    "\n",
    "The particular example used is **SARS-CoV-2 protein** (PDB code 7c01) and **antibody derived from COVID-19 patient.**\n",
    "\n",
    "The complete antibody sequence:\n",
    "\n",
    "Heavy chain<br>\n",
    "EVQLVESGGGLIQPGGSLRLSCAASGFTVSSNYMSWVRQAPGKGLEWVSVIYSGGSTYYADSVKGRFTISRDNSKNTLYLQMNSLRAEDTAVYYC<br>\n",
    "ARDRVVYGMDVWGQGTTVTVSSASTKGPSVFPLAPSSKSTSGGTAALGCLVKDYFPEPVTVSWNSGALTSGVHTFPAVLQSSGLYSLSSVVTVPS<br>\n",
    "SSLGTQTYICNVNHKPSNTKVDKKVEPKSC\n",
    "\n",
    "Light chain<br>\n",
    "DIQMTQSPSSLSASVGDRVTITCQASQDISNYLNWYQQKPGKAPKLLIYDASNLETGVPSRFSGSGSGTDFTFTISSLQPEDIATYYCHQYDNLPP<br>\n",
    "TFITFGQGTRLEIKRTVAAPSVFIFPPSDEQLKSGTASVVCLLNNFYPREAKVQWKVDNALQSGNSQESVTEQDSKDSTYSLSSTLTLSKADYEKH<br>\n",
    "KVYACEVTHQGLSSPVTKSFNRGEC\n",
    "# Settings\n",
    "\n",
    "## Software used\n",
    "\n",
    "[SWISS-MODEL:](https://swissmodel.expasy.org/) a fully automated protein structure homology-modelling server\n",
    "\n",
    "[VMD:](https://www.ks.uiuc.edu/Research/vmd/) a molecular visualization program for displaying, animating, and analyzing large biomolecular systems using 3-D graphics<br>\n",
    "and built-in scripting\n",
    "\n",
    "[NAMD:](https://www.ks.uiuc.edu/Research/namd/) a parallel molecular dynamics code designed for high-performance simulation of large biomolecular systems\n",
    "\n",
    "[Chimera:](https://www.cgl.ucsf.edu/chimera/) a program for the interactive visualization and analysis of molecular structures and related data\n",
    "\n",
    "[AutoDock Tools:](http://autodock.scripps.edu/) is a suite of automated docking tools. Allows estimation of binding energy.\n",
    "# Pipeline steps\n",
    "\n",
    "1. Building an antibody from a sequence\n",
    "\n",
    "2. Superposition of the structure of built antibody and SARS-CoV-2 protein with antibody-SARS-CoV structure (PDB code 2dd8)\n",
    "\n",
    "3. Minimization of the energy of antibody-SARS-CoV-2 structure\n",
    "\n",
    "4. Creating a solvent box, solvation and ionization in VMD\n",
    "\n",
    "5. Minimization of system and heating \n",
    "\n",
    "6. Equilibration and MD production run\n",
    "\n",
    "7. Energy estimation of antibody-SARS-CoV-2 interactions for the last 1 ns of MD "
   ]
  },
  {
   "cell_type": "markdown",
   "metadata": {},
   "source": [
    "1. Building an antibody from a sequence\n",
    "\n",
    "Let's build antibody. We will do it separetely for heavy and light chain. Paste a sequence for heavy chain into \"Target sequence\" field on [SWISS-MODEL](https://swissmodel.expasy.org/interactive) webpage and click \"BUILD MODEL\". Repeat the same for the light chain. When the modelling will be completed you can download built models for heavy and light chains. Save them as model_heavy.pdb and model_light.pdb.\n",
    "<h2><center> SWISS-MODEL interactive workspace</center></h2>\n",
    "    \n",
    "<img src=\"Swiss-Model.png\" width=\"900\" height=\"450\">"
   ]
  },
  {
   "cell_type": "markdown",
   "metadata": {},
   "source": [
    "\n",
    "2. Superposition of the structure of built antibody and SARS-CoV-2 protein with antibody-SARS-CoV-2 structure (PDB code 7c01)\n",
    "\n",
    "Please use script SARS_AB_rename.py to rename chains in the built antibody.\n",
    "```python\n",
    "> python SARS_AB_rename.py\n",
    "```\n",
    "Now we need to build an antibody-SARS-CoV-2 structure. Let's model antibody-SARS-CoV-2 interactions similar to the interaction mode of SARS-CoV-2 with neutralizing antibody CB6 (PDB code 7c01).\n",
    "\n",
    "Let's do superposition of already build antibody with CB6 antibody-RBD domain of SARS-CoV-2 complex in Chimera.<br>\n",
    "Open Chimera GUI and load 7C01_Ab_RBD.pdb, model_heavy_renamed.pdb and model_light_renamed.pdb.<br>\n",
    "Go to Tools -> Structure Comparison -> Match Maker and do superposition of chain C (heavy chain) of 7C01_Ab_RBD.pdb with chain H of antibody.\n",
    "<img src=\"Chimera_Superposition.png\" width=\"800\" height=\"450\">"
   ]
  },
  {
   "cell_type": "markdown",
   "metadata": {},
   "source": [
    "Repeat the same for a light chain of antibody. Do superposition of chain D (light chain) of 7C01_Ab_RBD.pdb with chain L of antibody. Remove chains C, D and save the current structure as Complex.pdb, which will be our working structure of antibody-SARS-CoV-2 complex."
   ]
  },
  {
   "cell_type": "markdown",
   "metadata": {},
   "source": [
    "3. Minimization of the energy of antibody-SARS-CoV-2 structure\n",
    "\n",
    "Let's generate psf file for our built antibody-SARS-CoV-2 complex using VMD and minimize the energy of the structure with NAMD.<br>\n",
    "```bash\n",
    "> cd your_working_dir\n",
    "> path_to_VMD/vmd -dispdev text -eofexit < Createpsf.tcl > output.log \n",
    "For example:\n",
    "> ~/../../Applications/VMD/VMD_1_9_3.app/Contents/MacOS/startup.command -dispdev text -eofexit < Createpsf.tcl > output.log \n",
    "> mkdir min\n",
    "> path_to_NAMD/namd2 +p8 minimization_1.txt > min1.log\n",
    "```\n",
    "NAMD will output 'Antibody_min.coor' file with energetically minimized structure in 'min' folder."
   ]
  },
  {
   "cell_type": "markdown",
   "metadata": {},
   "source": [
    "4. Creating a solvent box, solvation and ionization in VMD\n",
    "\n",
    "We will solvate a structure in a rectangular box such that the minimum distance to the edge of the box will be 10 Å under periodic boundary conditions in VMD. Na and Cl ions will be added to neutralize the protein charge, then further ions will be added to mimic a salt solution concentration of 0.15 M.<br> \n",
    "\n",
    "```bash\n",
    "> ~/../../Applications/VMD/VMD_1_9_3.app/Contents/MacOS/startup.command -dispdev text -eofexit < Solvate_ionize.tcl > out_solv.log \n",
    "```"
   ]
  },
  {
   "cell_type": "markdown",
   "metadata": {},
   "source": [
    "5. Minimization of the system and heating.<br>\n",
    "Let's minimize our system. Type in the Terminal:\n",
    "```bash\n",
    "> path_to_NAMD/namd2 +p8 minimization_2.txt > min_2.log\n",
    "> ~/../../Applications/VMD/VMD_1_9_3.app/Contents/MacOS/startup.command -dispdev text -eofexit < Box_size.tcl > out.log\n",
    "```\n",
    "Also we need to determine the water box size and coordinates of the center of the water box.\n",
    "The box_size.sh script will output three coordinates, which are the size of the water box. <br>\n",
    "\n",
    "```bash\n",
    "> ./box_size.sh  # to add coordinates of the center of the water box to configuration files.\n",
    "> 81.165\n",
    "> 84.174\n",
    "> 128.159\n",
    "```\n",
    "Please make sure that all three output coordinates above are similar to coordinates in the fileds 'Periodic Boundary Conditions', 'cellBasisVector1', 'cellBasisVector2' and 'cellBasisVector3' in heating.conf, equilibration.conf, md.conf and minimization_2.txt. If these coordinates are different, the mentioned fields should be modified accordingly.\n",
    "```bash\n",
    "> mkdir heating\n",
    "> path_to_NAMD/namd2 +p8 heating.conf > heating.log\n",
    "```"
   ]
  },
  {
   "cell_type": "markdown",
   "metadata": {},
   "source": [
    "6. Equilibration and MD production run\n",
    "\n",
    "Let's equilibrate our systems for 500000 steps (1ns) and run 10 ns of MD. To run jobs on a cluster use a script run_on_cluster.slurm.\n",
    "```bash\n",
    "> mkdir equil\n",
    "> path_to_NAMD/namd2 +p8 heating.conf > heating.log\n",
    "> mkdir md\n",
    "> path_to_NAMD/namd2 +p8 md.conf > md.log\n",
    "To run jobs on cluster:\n",
    "> sbatch run_on_cluster.slurm\n",
    "```"
   ]
  },
  {
   "cell_type": "markdown",
   "metadata": {},
   "source": [
    "7. Energy estimation of antibody-SARS-CoV-2 interactions for the last 1 ns of MD \n",
    "\n",
    "We ran 10ns of MD, so we will have 100 frames in total. As we saved trajectories every 50000 steps, for the last 1ns of MD we will have 10 frames. Let's save coordinates of antibody-SARS-CoV-2 structure for the last 10 frames of MD.\n",
    "Let's load our psf and trajectory files into VMD and save 10 structures that corresponds to the last 10 frames.<br>\n",
    "In VMD TK Console:\n",
    "```bash\n",
    "> ~/../../Applications/VMD/VMD_1_9_3.app/Contents/MacOS/startup.command -dispdev text -eofexit < Process_traj.tcl > out_tr.log \n",
    "> ./Script.sh\n",
    "> ~/../../Applications/VMD/VMD_1_9_3.app/Contents/MacOS/startup.command -dispdev text -eofexit < Createpsf_10Ab.tcl > output.log \n",
    "```"
   ]
  },
  {
   "cell_type": "markdown",
   "metadata": {},
   "source": [
    "We saved 10 structures, frame_90.pdb-frame_99.pdb into folder 'frames' and created psf files for them.\n",
    "Now we need to analyze each complex and calculate antibody-SARS-CoV-2 interaction energy for each structure.<br>\n",
    "First, let's do energy minimization of each complex.<br>\n",
    "Please change a path to NAMD in the script Min_all.sh.\n",
    "```bash\n",
    "./Min_all.sh\n",
    "```\n",
    "After minimization we need to convert output files into pdb format.<br>\n",
    "\n",
    "```bash\n",
    "> ~/../../Applications/VMD/VMD_1_9_3.app/Contents/MacOS/startup.command -dispdev text -eofexit < Save_pdb.tcl > output.log\n",
    "}\n",
    "```"
   ]
  },
  {
   "cell_type": "markdown",
   "metadata": {},
   "source": [
    "Now we can estimate energy for our 10 structures. The energy estimation requires installation of MGLTools. <br>\n",
    "Please modify path to your workig folder and path to MGLTools (http://mgltools.scripps.edu/downloads/mgltools-1-5-7rc1) in the script Energy.sh.\n",
    "```bash\n",
    "> ./Energy.sh\n",
    "```\n",
    "It will output file energy.txt, which contains frame id and energy of antibody-SARS-CoV-2 interactions for heavy and light chains."
   ]
  },
  {
   "cell_type": "code",
   "execution_count": null,
   "metadata": {},
   "outputs": [],
   "source": []
  }
 ],
 "metadata": {
  "kernelspec": {
   "display_name": "Python 3",
   "language": "python",
   "name": "python3"
  },
  "language_info": {
   "codemirror_mode": {
    "name": "ipython",
    "version": 3
   },
   "file_extension": ".py",
   "mimetype": "text/x-python",
   "name": "python",
   "nbconvert_exporter": "python",
   "pygments_lexer": "ipython3",
   "version": "3.7.0"
  }
 },
 "nbformat": 4,
 "nbformat_minor": 2
}
